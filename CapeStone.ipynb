{
 "cells": [
  {
   "cell_type": "markdown",
   "id": "3649dfef",
   "metadata": {},
   "source": [
    "# Retail Restock Forecasting Pipeline\n",
    "This notebook simulates sales, forecasts demand, queries Gemini AI, decides restock, and uploads results to Google Cloud Storage."
   ]
  },
  {
   "cell_type": "markdown",
   "id": "3bd903c8",
   "metadata": {},
   "source": [
    "## 0️⃣ Install dependencies (if needed)"
   ]
  },
  {
   "cell_type": "code",
   "execution_count": null,
   "id": "4515c0e4",
   "metadata": {},
   "outputs": [],
   "source": [
    "# !pip install --quiet pandas numpy statsmodels google-cloud-storage google-cloud-aiplatform"
   ]
  },
  {
   "cell_type": "markdown",
   "id": "a631811d",
   "metadata": {},
   "source": [
    "## 1️⃣ Imports"
   ]
  },
  {
   "cell_type": "code",
   "execution_count": null,
   "id": "154471c0",
   "metadata": {},
   "outputs": [],
   "source": [
    "import time, json, re, math, random\n",
    "from datetime import datetime\n",
    "import numpy as np, pandas as pd\n",
    "try:\n",
    "    from statsmodels.tsa.holtwinters import ExponentialSmoothing\n",
    "    HAS_HW = True\n",
    "except Exception:\n",
    "    HAS_HW = False\n",
    "from google.colab import auth\n",
    "auth.authenticate_user()\n",
    "from google.cloud import storage\n",
    "import vertexai\n",
    "from vertexai.preview import generative_models"
   ]
  },
  {
   "cell_type": "markdown",
   "id": "0c73e4bd",
   "metadata": {},
   "source": [
    "## 2️⃣ Configuration"
   ]
  },
  {
   "cell_type": "code",
   "execution_count": null,
   "id": "1a006c77",
   "metadata": {},
   "outputs": [],
   "source": [
    "PROJECT_ID = \"augmented-axe-476116-h6\"\n",
    "BUCKET_NAME = \"retail-agent-data\"\n",
    "LOCATION = \"us-central1\"\n",
    "vertexai.init(project=PROJECT_ID, location=LOCATION)\n",
    "gemini = generative_models.GenerativeModel(\"projects/augmented-axe-476116-h6/locations/us-central1/publishers/google/models/gemini-2.5-flash\")\n",
    "storage_client = storage.Client(project=PROJECT_ID)\n",
    "bucket = storage_client.bucket(BUCKET_NAME)"
   ]
  },
  {
   "cell_type": "markdown",
   "id": "c14b02b2",
   "metadata": {},
   "source": [
    "## 3️⃣ Helper Functions"
   ]
  },
  {
   "cell_type": "code",
   "execution_count": null,
   "id": "964d555e",
   "metadata": {},
   "outputs": [],
   "source": [
    "# Safe Gemini call with retries\n",
    "def _safe_gemini_text(prompt, max_retries=3, backoff=2):\n",
    "    last_exc = None\n",
    "    for attempt in range(max_retries):\n",
    "        try:\n",
    "            resp = gemini.generate_content(prompt)\n",
    "            text = getattr(resp, 'text', None)\n",
    "            if text is None:\n",
    "                text = str(resp)\n",
    "            return text.strip()\n",
    "        except Exception as e:\n",
    "            last_exc = e\n",
    "            time.sleep(backoff ** attempt)\n",
    "    raise last_exc\n",
    "\n",
    "# Explain forecast using Gemini\n",
    "def explain_forecast(item, remaining, predicted_demand, initial_stock, predicted_stockout_days, restock_threshold=0.25):\n",
    "    prompt = f\"\"\"\n",
    "You are an inventory decision assistant. Return ONLY a single JSON object (no additional prose)\n",
    "with these keys: restock (true/false), restock_qty (integer), reason (1-2 sentences), confidence (0.0-1.0).\n",
    "\n",
    "Facts:\n",
    "- item: {item}\n",
    "- initial_stock: {initial_stock}\n",
    "- remaining_stock: {remaining}\n",
    "- predicted_demand_next_5_days: {predicted_demand:.2f}\n",
    "- predicted_stockout_in_days: {predicted_stockout_days}\n",
    "\n",
    "Rules (internal):\n",
    "1) Recommend restock if remaining_stock < initial_stock * {restock_threshold} OR remaining_stock < predicted_demand_next_5_days.\n",
    "2) Suggest restock_qty = max(10, round(predicted_demand_next_5_days - remaining_stock)) when restock is true.\n",
    "3) If unsure, set confidence lower (0.2-0.5).\n",
    "\"\"\"\n",
    "    try:\n",
    "        text = _safe_gemini_text(prompt)\n",
    "        m = re.search(r'\\{.*\\}', text, re.S)\n",
    "        parsed = json.loads(m.group()) if m else json.loads(text)\n",
    "        parsed['restock'] = bool(parsed.get('restock', False))\n",
    "        parsed['restock_qty'] = int(parsed.get('restock_qty', 0))\n",
    "        parsed['reason'] = str(parsed.get('reason','')).strip()\n",
    "        parsed['confidence'] = float(parsed.get('confidence',0.0))\n",
    "        return parsed\n",
    "    except Exception:\n",
    "        rule_restock = (remaining < initial_stock * restock_threshold) or (remaining < predicted_demand)\n",
    "        rule_qty = max(10, int(max(0, math.ceil(predicted_demand - remaining)))) if rule_restock else 0\n",
    "        return {'restock': rule_restock, 'restock_qty': rule_qty, 'reason': f'(Fallback rule) remaining={remaining}, predicted_demand={predicted_demand:.1f}', 'confidence': 0.0}\n",
    "\n",
    "# Forecast helper\n",
    "def forecast_series(series, days_ahead=5):\n",
    "    if HAS_HW and len(series) >= 4:\n",
    "        try:\n",
    "            model = ExponentialSmoothing(series.astype(float), trend='add', seasonal=None, initialization_method='estimated')\n",
    "            fit = model.fit(optimized=True)\n",
    "            return [float(x) for x in fit.forecast(days_ahead)]\n",
    "        except:\n",
    "            pass\n",
    "    avg = float(series.tail(7).mean()) if len(series) >= 3 else float(series.mean() if len(series)>0 else 0.0)\n",
    "    return [max(0.0, avg)]*days_ahead"
   ]
  },
  {
   "cell_type": "markdown",
   "id": "a2ce862b",
   "metadata": {},
   "source": [
    "## 4️⃣ Simulate sales data"
   ]
  },
  {
   "cell_type": "code",
   "execution_count": null,
   "id": "0af788e0",
   "metadata": {},
   "outputs": [],
   "source": [
    "items = {\n",
    "    'Milk001': {'initial_stock': 300, 'daily_sales_avg': 15},\n",
    "    'Bread002': {'initial_stock': 200, 'daily_sales_avg': 10},\n",
    "    'Eggs003':  {'initial_stock': 50,  'daily_sales_avg': 25},\n",
    "    'Rice005':  {'initial_stock': 400, 'daily_sales_avg': 12},\n",
    "    'Oil013':   {'initial_stock': 250, 'daily_sales_avg': 8},\n",
    "    'Fish014':  {'initial_stock': 18,  'daily_sales_avg': 9},\n",
    "    'Sugar020': {'initial_stock': 350, 'daily_sales_avg': 14},\n",
    "    'Salt021':  {'initial_stock': 100, 'daily_sales_avg': 6},\n",
    "    'Apples022':{'initial_stock': 240, 'daily_sales_avg': 12},\n",
    "    'Cheese023':{'initial_stock': 150, 'daily_sales_avg': 9}\n",
    "}\n",
    "np.random.seed(42)\n",
    "days = pd.date_range('2025-09-20', periods=15, freq='D')\n",
    "sales_records = []\n",
    "for item, data in items.items():\n",
    "    avg = data['daily_sales_avg']\n",
    "    sales = np.maximum(np.random.normal(avg, avg*0.2, size=15).astype(int), 0)\n",
    "    for i,d in enumerate(days):\n",
    "        sales_records.append({'date': d.strftime('%Y-%m-%d'), 'item_id': item, 'sales': int(sales[i])})\n",
    "df_sales = pd.DataFrame(sales_records)"
   ]
  },
  {
   "cell_type": "markdown",
   "id": "a2ae79a3",
   "metadata": {},
   "source": [
    "## 5️⃣ Forecast & Build Restock Requests"
   ]
  },
  {
   "cell_type": "code",
   "execution_count": null,
   "id": "39024898",
   "metadata": {},
   "outputs": [],
   "source": [
    "restock_threshold = 0.25\n",
    "restock_requests = []\n",
    "for item_id in df_sales['item_id'].unique():\n",
    "    series = df_sales[df_sales['item_id']==item_id]['sales']\n",
    "    forecast = forecast_series(series,5)\n",
    "    predicted_avg = float(np.mean(forecast))\n",
    "    predicted_demand_5 = predicted_avg*5\n",
    "    initial_stock = items[item_id]['initial_stock']\n",
    "    remaining_stock = initial_stock - series.sum()\n",
    "    predicted_stockout_days = int(round(remaining_stock/(predicted_avg+1e-9))) if predicted_avg>0 else 9999\n",
    "    rule_restock = (remaining_stock<initial_stock*restock_threshold) or (remaining_stock<predicted_demand_5)\n",
    "    rule_qty = max(0,int(math.ceil(predicted_demand_5-remaining_stock))) if rule_restock else 0\n",
    "    ai = explain_forecast(item_id, remaining_stock, predicted_demand_5, initial_stock, predicted_stockout_days, restock_threshold)\n",
    "    final_restock = bool(rule_restock or ai.get('restock',False))\n",
    "    final_qty = int(ai.get('restock_qty',0)) if ai.get('restock_qty',0)>0 else rule_qty\n",
    "    restock_requests.append({\n",
    "        'item_id':item_id,\n",
    "        'location':[int(np.random.randint(1,10)),int(np.random.randint(1,10))],\n",
    "        'urgency': round(min(1.0,1-max(0,remaining_stock)/(initial_stock+1e-6)),2),\n",
    "        'quantity': int(final_qty),\n",
    "        'predicted_stockout_in_days': int(max(0,predicted_stockout_days)),\n",
    "        'remaining_stock': int(remaining_stock),\n",
    "        'predicted_demand_next_5_days': round(predicted_demand_5,2),\n",
    "        'rule_based': {'restock':rule_restock,'restock_qty':rule_qty},\n",
    "        'ai_recommendation': ai,\n",
    "        'final_restock_decision': final_restock\n",
    "    })"
   ]
  },
  {
   "cell_type": "markdown",
   "id": "e06188b2",
   "metadata": {},
   "source": [
    "## 6️⃣ Save & Upload Results"
   ]
  },
  {
   "cell_type": "code",
   "execution_count": null,
   "id": "be3e5a4e",
   "metadata": {},
   "outputs": [],
   "source": [
    "timestamp = datetime.now().strftime('%Y%m%d_%H%M%S')\n",
    "output_file = f'restock_requests_{timestamp}.json'\n",
    "with open(output_file,'w') as f:\n",
    "    json.dump(restock_requests,f,indent=2)\n",
    "blob = bucket.blob(f'restock_requests/{output_file}')\n",
    "blob.upload_from_filename(output_file)\n",
    "print(f'✅ Uploaded → gs://{BUCKET_NAME}/restock_requests/{output_file}')\n",
    "df_out = pd.DataFrame(restock_requests)[['item_id','remaining_stock','predicted_demand_next_5_days','quantity','predicted_stockout_in_days','final_restock_decision']]\n",
    "print('\\n--- Summary table ---')\n",
    "print(df_out.to_string(index=False))"
   ]
  }
 ],
 "metadata": {
  "kernelspec": {
   "display_name": "Python 3",
   "language": "python",
   "name": "python3"
  },
  "language_info": {
   "codemirror_mode": {
    "name": "ipython",
    "version": 3
   },
   "file_extension": ".py",
   "mimetype": "text/x-python",
   "name": "python",
   "nbconvert_exporter": "python",
   "pygments_lexer": "ipython3",
   "version": "3.10.10"
  }
 },
 "nbformat": 4,
 "nbformat_minor": 5
}
